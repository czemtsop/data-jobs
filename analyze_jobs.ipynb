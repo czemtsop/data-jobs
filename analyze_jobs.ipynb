{
 "cells": [
  {
   "cell_type": "markdown",
   "metadata": {},
   "source": [
    "# 🚀 Data Career Job Market Analysis\n",
    "## Interactive Analysis Playground\n",
    "\n",
    "Welcome to your comprehensive job market analysis notebook! This interactive playground lets you explore data career opportunities with style and insight."
   ]
  },
  {
   "cell_type": "markdown",
   "metadata": {},
   "source": [
    "## 📦 Setup and Imports"
   ]
  },
  {
   "cell_type": "code",
   "execution_count": null,
   "metadata": {},
   "outputs": [
    {
     "name": "stdout",
     "output_type": "stream",
     "text": [
      "🎉 All modules loaded successfully!\n",
      "📅 Analysis started at: 2025-05-30 21:35:45\n"
     ]
    }
   ],
   "source": [
    "# Core imports\n",
    "import pandas as pd\n",
    "import yaml\n",
    "from datetime import datetime\n",
    "import warnings\n",
    "warnings.filterwarnings('ignore')\n",
    "\n",
    "# Our custom modules\n",
    "from scraper.coordinator import ScraperCoordinator\n",
    "from analysis.visualizers import JobVisualizer, plot_keywords_bar_chart, plot_salary_trends_by_location, create_summary_dashboard\n",
    "from analysis.analyzers import JobAnalyzer, analyze_job_data, analyze_job_types, analyze_company_sizes, analyze_salary_trends_by_location\n",
    "from analysis.exporters import export_analysis_results\n",
    "\n",
    "# Configuration imports\n",
    "with open('config/config.yaml', 'r') as file:\n",
    "    config = yaml.safe_load(file)\n",
    "\n",
    "# Display settings\n",
    "pd.set_option('display.max_columns', None)\n",
    "pd.set_option('display.width', None)\n",
    "pd.set_option('display.max_colwidth', 50)\n",
    "visualizer = JobVisualizer()\n",
    "\n",
    "print(\"🎉 All modules loaded successfully!\")\n",
    "print(f\"📅 Analysis started at: {datetime.now().strftime('%Y-%m-%d %H:%M:%S')}\")"
   ]
  },
  {
   "cell_type": "markdown",
   "metadata": {},
   "source": [
    "## 🕷️ Data Collection Phase"
   ]
  },
  {
   "cell_type": "code",
   "execution_count": 2,
   "metadata": {},
   "outputs": [
    {
     "name": "stderr",
     "output_type": "stream",
     "text": [
      "INFO:scraper.coordinator:Starting job collection from scrapers: ['remoteok', 'jobicy']\n",
      "INFO:scraper.coordinator:Initializing remoteok scraper\n",
      "INFO:scraper.coordinator:Fetching jobs from remoteok\n",
      "INFO:scraper.remoteok_scraper:Fetching data from RemoteOK: https://remoteok.com/api\n"
     ]
    },
    {
     "name": "stdout",
     "output_type": "stream",
     "text": [
      "🚀 Starting job data collection...\n",
      "📡 Fetching from multiple job boards...\n"
     ]
    },
    {
     "name": "stderr",
     "output_type": "stream",
     "text": [
      "INFO:scraper.remoteok_scraper:RemoteOK Legal Notice: API Terms of Service: Please link back (with follow, and without nofollow!) to the URL on Remote OK and mention Remote OK as a source, so we get traffic back from your site. If you do not we'll have to suspend API access.\n",
      "\n",
      "Please don't use the Remote OK logo without written permission as it's a registered trademark, please DO use our name Remote OK though.\n",
      "INFO:scraper.coordinator:Successfully fetched 9 jobs from remoteok\n",
      "INFO:scraper.coordinator:Initializing jobicy scraper\n",
      "INFO:scraper.coordinator:Fetching jobs from jobicy\n",
      "INFO:scraper.jobicy_scraper:Fetching data from Jobicy: https://jobicy.com/api/v2/remote-jobs\n",
      "INFO:scraper.jobicy_scraper:Fetching Jobicy jobs for keyword: analy\n",
      "INFO:scraper.jobicy_scraper:Found 12 jobs for keyword 'analy'\n",
      "INFO:scraper.jobicy_scraper:Fetching Jobicy jobs for keyword: data\n",
      "INFO:scraper.jobicy_scraper:Found 22 jobs for keyword 'data'\n",
      "INFO:scraper.jobicy_scraper:Fetching Jobicy jobs for keyword: machine learning\n",
      "INFO:scraper.jobicy_scraper:Found 2 jobs for keyword 'machine learning'\n",
      "INFO:scraper.jobicy_scraper:Fetching Jobicy jobs for keyword: intelligence\n",
      "INFO:scraper.jobicy_scraper:Found 0 jobs for keyword 'intelligence'\n",
      "INFO:scraper.jobicy_scraper:Jobicy notice: We appreciate your use of Jobicy API in your projects! Please note that our API access is designed primarily to facilitate broader distribution of our content. We kindly request that you refrain from distributing Jobicy's job listings to any external job platforms, such as Jooble, Google Jobs, and LinkedIn, among others. To ensure that Jobicy is credited as the original source across various platforms, content in the feeds is published with a slight delay. As our data doesn't change frequently, accessing the Feed a few times daily is sufficient and recommended. Be advised that excessive querying may lead to restricted access. Thank you for understanding and cooperating!\n",
      "INFO:scraper.jobicy_scraper:Normalizing 36 Jobicy job entries into DataFrame\n",
      "INFO:scraper.coordinator:Successfully fetched 34 jobs from jobicy\n",
      "INFO:scraper.coordinator:Successfully collected 43 unique jobs from 2 sources\n"
     ]
    },
    {
     "name": "stdout",
     "output_type": "stream",
     "text": [
      "✅ Successfully collected 43 job postings!\n",
      "📊 Data shape: (43, 16)\n",
      "🏢 Unique companies: 40\n",
      "🌍 Unique locations: 21\n"
     ]
    }
   ],
   "source": [
    "print(\"🚀 Starting job data collection...\")\n",
    "print(\"📡 Fetching from multiple job boards...\")\n",
    "\n",
    "# Fetch jobs from available sources\n",
    "scraper_coordinator = ScraperCoordinator(config)\n",
    "jobs_df = scraper_coordinator.fetch_all_jobs(['remoteok', 'jobicy'])\n",
    "\n",
    "if jobs_df.empty:\n",
    "    print(\"❌ No job data retrieved. Please check your scrapers and try again.\")\n",
    "else:\n",
    "    print(f\"✅ Successfully collected {len(jobs_df)} job postings!\")\n",
    "    print(f\"📊 Data shape: {jobs_df.shape}\")\n",
    "    print(f\"🏢 Unique companies: {jobs_df['company'].nunique() if 'company' in jobs_df.columns else 'N/A'}\")\n",
    "    print(f\"🌍 Unique locations: {jobs_df['location'].nunique() if 'location' in jobs_df.columns else 'N/A'}\")"
   ]
  },
  {
   "cell_type": "markdown",
   "metadata": {},
   "source": [
    "## 👀 Data Overview"
   ]
  },
  {
   "cell_type": "code",
   "execution_count": 4,
   "metadata": {},
   "outputs": [
    {
     "name": "stdout",
     "output_type": "stream",
     "text": [
      "📋 Dataset Info:\n",
      "<class 'pandas.core.frame.DataFrame'>\n",
      "RangeIndex: 43 entries, 0 to 42\n",
      "Data columns (total 16 columns):\n",
      " #   Column        Non-Null Count  Dtype         \n",
      "---  ------        --------------  -----         \n",
      " 0   id            43 non-null     object        \n",
      " 1   url           43 non-null     object        \n",
      " 2   company       43 non-null     object        \n",
      " 3   position      43 non-null     object        \n",
      " 4   description   43 non-null     object        \n",
      " 5   location      43 non-null     object        \n",
      " 6   pubDate       43 non-null     datetime64[ns]\n",
      " 7   salaryMin     43 non-null     float64       \n",
      " 8   salaryMax     43 non-null     float64       \n",
      " 9   industry      43 non-null     object        \n",
      " 10  jobType       43 non-null     object        \n",
      " 11  jobLevel      43 non-null     object        \n",
      " 12  tags          43 non-null     object        \n",
      " 13  currency      43 non-null     object        \n",
      " 14  salaryPeriod  43 non-null     object        \n",
      " 15  source        43 non-null     object        \n",
      "dtypes: datetime64[ns](1), float64(2), object(13)\n",
      "memory usage: 5.5+ KB\n",
      "\n",
      "🔍 First few rows:\n"
     ]
    },
    {
     "data": {
      "text/html": [
       "<div>\n",
       "<style scoped>\n",
       "    .dataframe tbody tr th:only-of-type {\n",
       "        vertical-align: middle;\n",
       "    }\n",
       "\n",
       "    .dataframe tbody tr th {\n",
       "        vertical-align: top;\n",
       "    }\n",
       "\n",
       "    .dataframe thead th {\n",
       "        text-align: right;\n",
       "    }\n",
       "</style>\n",
       "<table border=\"1\" class=\"dataframe\">\n",
       "  <thead>\n",
       "    <tr style=\"text-align: right;\">\n",
       "      <th></th>\n",
       "      <th>id</th>\n",
       "      <th>url</th>\n",
       "      <th>company</th>\n",
       "      <th>position</th>\n",
       "      <th>description</th>\n",
       "      <th>location</th>\n",
       "      <th>pubDate</th>\n",
       "      <th>salaryMin</th>\n",
       "      <th>salaryMax</th>\n",
       "      <th>industry</th>\n",
       "      <th>jobType</th>\n",
       "      <th>jobLevel</th>\n",
       "      <th>tags</th>\n",
       "      <th>currency</th>\n",
       "      <th>salaryPeriod</th>\n",
       "      <th>source</th>\n",
       "    </tr>\n",
       "  </thead>\n",
       "  <tbody>\n",
       "    <tr>\n",
       "      <th>0</th>\n",
       "      <td>1093248</td>\n",
       "      <td>https://remoteOK.com/remote-jobs/remote-growth...</td>\n",
       "      <td>Anchorage Digital</td>\n",
       "      <td>Growth Analyst Financial Institutions Group</td>\n",
       "      <td>At Anchorage Digital, we are building the worl...</td>\n",
       "      <td>United States</td>\n",
       "      <td>2025-05-30</td>\n",
       "      <td>65000.0</td>\n",
       "      <td>90000.0</td>\n",
       "      <td></td>\n",
       "      <td></td>\n",
       "      <td></td>\n",
       "      <td>growth, analyst, crypto, security, support, fi...</td>\n",
       "      <td></td>\n",
       "      <td></td>\n",
       "      <td>Remote OK</td>\n",
       "    </tr>\n",
       "    <tr>\n",
       "      <th>1</th>\n",
       "      <td>1093240</td>\n",
       "      <td>https://remoteOK.com/remote-jobs/remote-resear...</td>\n",
       "      <td>ACCUFILE, INC.</td>\n",
       "      <td>Research Analyst Law Librarian</td>\n",
       "      <td>Part-Time Remote Research Analyst / Law Librar...</td>\n",
       "      <td></td>\n",
       "      <td>2025-05-30</td>\n",
       "      <td>90000.0</td>\n",
       "      <td>100000.0</td>\n",
       "      <td></td>\n",
       "      <td></td>\n",
       "      <td></td>\n",
       "      <td>analyst, support, analytics, legal, non tech</td>\n",
       "      <td></td>\n",
       "      <td></td>\n",
       "      <td>Remote OK</td>\n",
       "    </tr>\n",
       "    <tr>\n",
       "      <th>2</th>\n",
       "      <td>1093234</td>\n",
       "      <td>https://remoteOK.com/remote-jobs/remote-englis...</td>\n",
       "      <td>TransPerfect</td>\n",
       "      <td>English Language Data Annotator</td>\n",
       "      <td>Work Location: Alberta; remoteWork Schedule: F...</td>\n",
       "      <td></td>\n",
       "      <td>2025-05-30</td>\n",
       "      <td>60000.0</td>\n",
       "      <td>105000.0</td>\n",
       "      <td></td>\n",
       "      <td></td>\n",
       "      <td></td>\n",
       "      <td>react, teach, training, legal, recruitment, fu...</td>\n",
       "      <td></td>\n",
       "      <td></td>\n",
       "      <td>Remote OK</td>\n",
       "    </tr>\n",
       "    <tr>\n",
       "      <th>3</th>\n",
       "      <td>1093225</td>\n",
       "      <td>https://remoteOK.com/remote-jobs/remote-people...</td>\n",
       "      <td>H1</td>\n",
       "      <td>People Analytics Business Partner</td>\n",
       "      <td>At H1, we believe access to the best healthcar...</td>\n",
       "      <td>US Remote</td>\n",
       "      <td>2025-05-30</td>\n",
       "      <td>30000.0</td>\n",
       "      <td>55000.0</td>\n",
       "      <td></td>\n",
       "      <td></td>\n",
       "      <td></td>\n",
       "      <td>design, saas, hr, recruiter, support, payroll,...</td>\n",
       "      <td></td>\n",
       "      <td></td>\n",
       "      <td>Remote OK</td>\n",
       "    </tr>\n",
       "    <tr>\n",
       "      <th>4</th>\n",
       "      <td>1093213</td>\n",
       "      <td>https://remoteOK.com/remote-jobs/remote-jr-bus...</td>\n",
       "      <td>HealthCare</td>\n",
       "      <td>Jr Business Analyst</td>\n",
       "      <td>Join Us!HealthCare.com has become one of Ameri...</td>\n",
       "      <td>Remote</td>\n",
       "      <td>2025-05-30</td>\n",
       "      <td>55000.0</td>\n",
       "      <td>70000.0</td>\n",
       "      <td></td>\n",
       "      <td></td>\n",
       "      <td></td>\n",
       "      <td>analyst, students, technical, support, softwar...</td>\n",
       "      <td></td>\n",
       "      <td></td>\n",
       "      <td>Remote OK</td>\n",
       "    </tr>\n",
       "  </tbody>\n",
       "</table>\n",
       "</div>"
      ],
      "text/plain": [
       "        id                                                url  \\\n",
       "0  1093248  https://remoteOK.com/remote-jobs/remote-growth...   \n",
       "1  1093240  https://remoteOK.com/remote-jobs/remote-resear...   \n",
       "2  1093234  https://remoteOK.com/remote-jobs/remote-englis...   \n",
       "3  1093225  https://remoteOK.com/remote-jobs/remote-people...   \n",
       "4  1093213  https://remoteOK.com/remote-jobs/remote-jr-bus...   \n",
       "\n",
       "             company                                     position  \\\n",
       "0  Anchorage Digital  Growth Analyst Financial Institutions Group   \n",
       "1     ACCUFILE, INC.               Research Analyst Law Librarian   \n",
       "2       TransPerfect              English Language Data Annotator   \n",
       "3                 H1            People Analytics Business Partner   \n",
       "4         HealthCare                          Jr Business Analyst   \n",
       "\n",
       "                                         description       location  \\\n",
       "0  At Anchorage Digital, we are building the worl...  United States   \n",
       "1  Part-Time Remote Research Analyst / Law Librar...                  \n",
       "2  Work Location: Alberta; remoteWork Schedule: F...                  \n",
       "3  At H1, we believe access to the best healthcar...      US Remote   \n",
       "4  Join Us!HealthCare.com has become one of Ameri...         Remote   \n",
       "\n",
       "     pubDate  salaryMin  salaryMax industry jobType jobLevel  \\\n",
       "0 2025-05-30    65000.0    90000.0                             \n",
       "1 2025-05-30    90000.0   100000.0                             \n",
       "2 2025-05-30    60000.0   105000.0                             \n",
       "3 2025-05-30    30000.0    55000.0                             \n",
       "4 2025-05-30    55000.0    70000.0                             \n",
       "\n",
       "                                                tags currency salaryPeriod  \\\n",
       "0  growth, analyst, crypto, security, support, fi...                         \n",
       "1       analyst, support, analytics, legal, non tech                         \n",
       "2  react, teach, training, legal, recruitment, fu...                         \n",
       "3  design, saas, hr, recruiter, support, payroll,...                         \n",
       "4  analyst, students, technical, support, softwar...                         \n",
       "\n",
       "      source  \n",
       "0  Remote OK  \n",
       "1  Remote OK  \n",
       "2  Remote OK  \n",
       "3  Remote OK  \n",
       "4  Remote OK  "
      ]
     },
     "metadata": {},
     "output_type": "display_data"
    },
    {
     "name": "stdout",
     "output_type": "stream",
     "text": [
      "\n",
      "📈 Basic statistics:\n"
     ]
    },
    {
     "data": {
      "text/html": [
       "<div>\n",
       "<style scoped>\n",
       "    .dataframe tbody tr th:only-of-type {\n",
       "        vertical-align: middle;\n",
       "    }\n",
       "\n",
       "    .dataframe tbody tr th {\n",
       "        vertical-align: top;\n",
       "    }\n",
       "\n",
       "    .dataframe thead th {\n",
       "        text-align: right;\n",
       "    }\n",
       "</style>\n",
       "<table border=\"1\" class=\"dataframe\">\n",
       "  <thead>\n",
       "    <tr style=\"text-align: right;\">\n",
       "      <th></th>\n",
       "      <th>pubDate</th>\n",
       "      <th>salaryMin</th>\n",
       "      <th>salaryMax</th>\n",
       "    </tr>\n",
       "  </thead>\n",
       "  <tbody>\n",
       "    <tr>\n",
       "      <th>count</th>\n",
       "      <td>43</td>\n",
       "      <td>43.000000</td>\n",
       "      <td>43.000000</td>\n",
       "    </tr>\n",
       "    <tr>\n",
       "      <th>mean</th>\n",
       "      <td>2025-05-17 22:19:32.093023232</td>\n",
       "      <td>82884.883721</td>\n",
       "      <td>114949.534884</td>\n",
       "    </tr>\n",
       "    <tr>\n",
       "      <th>min</th>\n",
       "      <td>2025-05-02 00:00:00</td>\n",
       "      <td>0.000000</td>\n",
       "      <td>0.000000</td>\n",
       "    </tr>\n",
       "    <tr>\n",
       "      <th>25%</th>\n",
       "      <td>2025-05-09 00:00:00</td>\n",
       "      <td>15000.000000</td>\n",
       "      <td>27500.000000</td>\n",
       "    </tr>\n",
       "    <tr>\n",
       "      <th>50%</th>\n",
       "      <td>2025-05-19 00:00:00</td>\n",
       "      <td>80000.000000</td>\n",
       "      <td>132480.000000</td>\n",
       "    </tr>\n",
       "    <tr>\n",
       "      <th>75%</th>\n",
       "      <td>2025-05-29 12:00:00</td>\n",
       "      <td>133500.000000</td>\n",
       "      <td>179500.000000</td>\n",
       "    </tr>\n",
       "    <tr>\n",
       "      <th>max</th>\n",
       "      <td>2025-05-30 00:00:00</td>\n",
       "      <td>200700.000000</td>\n",
       "      <td>250900.000000</td>\n",
       "    </tr>\n",
       "    <tr>\n",
       "      <th>std</th>\n",
       "      <td>NaN</td>\n",
       "      <td>61731.886234</td>\n",
       "      <td>80229.017935</td>\n",
       "    </tr>\n",
       "  </tbody>\n",
       "</table>\n",
       "</div>"
      ],
      "text/plain": [
       "                             pubDate      salaryMin      salaryMax\n",
       "count                             43      43.000000      43.000000\n",
       "mean   2025-05-17 22:19:32.093023232   82884.883721  114949.534884\n",
       "min              2025-05-02 00:00:00       0.000000       0.000000\n",
       "25%              2025-05-09 00:00:00   15000.000000   27500.000000\n",
       "50%              2025-05-19 00:00:00   80000.000000  132480.000000\n",
       "75%              2025-05-29 12:00:00  133500.000000  179500.000000\n",
       "max              2025-05-30 00:00:00  200700.000000  250900.000000\n",
       "std                              NaN   61731.886234   80229.017935"
      ]
     },
     "metadata": {},
     "output_type": "display_data"
    }
   ],
   "source": [
    "# Display basic information about our dataset\n",
    "print(\"📋 Dataset Info:\")\n",
    "jobs_df.info()\n",
    "\n",
    "print(\"\\n🔍 First few rows:\")\n",
    "display(jobs_df.head())\n",
    "\n",
    "print(\"\\n📈 Basic statistics:\")\n",
    "display(jobs_df.describe())"
   ]
  },
  {
   "cell_type": "markdown",
   "metadata": {},
   "source": [
    "## 🔬 Deep Dive Analysis"
   ]
  },
  {
   "cell_type": "code",
   "execution_count": 5,
   "metadata": {},
   "outputs": [
    {
     "name": "stdout",
     "output_type": "stream",
     "text": [
      "🔍 Running comprehensive job market analysis...\n",
      "\n",
      "Top 20 most common keywords in job descriptions:\n",
      "- data: 447\n",
      "- experience: 253\n",
      "- team: 152\n",
      "- business: 144\n",
      "- work: 139\n",
      "- role: 105\n",
      "- product: 91\n",
      "- company: 77\n",
      "- build: 68\n",
      "- including: 66\n",
      "- insights: 65\n",
      "- teams: 64\n",
      "- analytics: 64\n",
      "- us: 63\n",
      "- new: 61\n",
      "- opportunity: 60\n",
      "- engineering: 59\n",
      "- working: 58\n",
      "- building: 57\n",
      "- status: 57\n",
      "\n",
      "--- Dataset Summary ---\n",
      "Total jobs: 43\n",
      "Unique companies: 40\n",
      "Unique locations: 21\n",
      "Jobs with salary info: 32\n",
      "\n",
      "✨ Analysis complete!\n"
     ]
    }
   ],
   "source": [
    "# Initialize our analyzer and visualizer\n",
    "analyzer = JobAnalyzer()\n",
    "visualizer = JobVisualizer()\n",
    "\n",
    "print(\"🔍 Running comprehensive job market analysis...\")\n",
    "\n",
    "# Perform the main analysis\n",
    "analysis_results = analyze_job_data(jobs_df)\n",
    "\n",
    "print(\"\\n✨ Analysis complete!\")"
   ]
  },
  {
   "cell_type": "markdown",
   "metadata": {},
   "source": [
    "## 📊 Keyword Analysis & Word Cloud"
   ]
  },
  {
   "cell_type": "code",
   "execution_count": 5,
   "metadata": {},
   "outputs": [
    {
     "name": "stdout",
     "output_type": "stream",
     "text": [
      "🌟 Creating word cloud from job tags...\n"
     ]
    },
    {
     "ename": "TypeError",
     "evalue": "ufunc 'isfinite' not supported for the input types, and the inputs could not be safely coerced to any supported types according to the casting rule ''safe''",
     "output_type": "error",
     "traceback": [
      "\u001b[31m---------------------------------------------------------------------------\u001b[39m",
      "\u001b[31mTypeError\u001b[39m                                 Traceback (most recent call last)",
      "\u001b[36mCell\u001b[39m\u001b[36m \u001b[39m\u001b[32mIn[5]\u001b[39m\u001b[32m, line 7\u001b[39m\n\u001b[32m      4\u001b[39m tags_text = \u001b[33m\"\u001b[39m\u001b[33m, \u001b[39m\u001b[33m\"\u001b[39m.join(jobs_df.tags.fillna(\u001b[33m\"\u001b[39m\u001b[33m\"\u001b[39m)).lower()\n\u001b[32m      6\u001b[39m \u001b[38;5;28;01mif\u001b[39;00m tags_text.strip():\n\u001b[32m----> \u001b[39m\u001b[32m7\u001b[39m     \u001b[43mvisualizer\u001b[49m\u001b[43m.\u001b[49m\u001b[43mplot_wordcloud\u001b[49m\u001b[43m(\u001b[49m\n\u001b[32m      8\u001b[39m \u001b[43m        \u001b[49m\u001b[43mtags_text\u001b[49m\u001b[43m,\u001b[49m\u001b[43m \u001b[49m\n\u001b[32m      9\u001b[39m \u001b[43m        \u001b[49m\u001b[43mtitle\u001b[49m\u001b[43m=\u001b[49m\u001b[33;43m\"\u001b[39;49m\u001b[33;43mHottest Skills & Technologies in Data Jobs\u001b[39;49m\u001b[33;43m\"\u001b[39;49m\u001b[43m,\u001b[49m\n\u001b[32m     10\u001b[39m \u001b[43m        \u001b[49m\u001b[43msave_path\u001b[49m\u001b[43m=\u001b[49m\u001b[33;43m\"\u001b[39;49m\u001b[33;43mdata/outputs/skills_wordcloud.png\u001b[39;49m\u001b[33;43m\"\u001b[39;49m\n\u001b[32m     11\u001b[39m \u001b[43m    \u001b[49m\u001b[43m)\u001b[49m\n\u001b[32m     12\u001b[39m \u001b[38;5;28;01melse\u001b[39;00m:\n\u001b[32m     13\u001b[39m     \u001b[38;5;28mprint\u001b[39m(\u001b[33m\"\u001b[39m\u001b[33m⚠️ No tags data available for word cloud\u001b[39m\u001b[33m\"\u001b[39m)\n",
      "\u001b[36mFile \u001b[39m\u001b[32m~/github/Python/data-jobs/analysis/visualizers.py:227\u001b[39m, in \u001b[36mJobVisualizer.plot_wordcloud\u001b[39m\u001b[34m(self, text, mask_image_path, title, save_path)\u001b[39m\n\u001b[32m    216\u001b[39m \u001b[38;5;250m\u001b[39m\u001b[33;03m\"\"\"\u001b[39;00m\n\u001b[32m    217\u001b[39m \u001b[33;03mCreates and displays a word cloud plot.\u001b[39;00m\n\u001b[32m    218\u001b[39m \n\u001b[32m   (...)\u001b[39m\u001b[32m    223\u001b[39m \u001b[33;03m    save_path (str): Optional path to save the plot\u001b[39;00m\n\u001b[32m    224\u001b[39m \u001b[33;03m\"\"\"\u001b[39;00m\n\u001b[32m    225\u001b[39m wordcloud = create_wordcloud(text, mask_image_path)\n\u001b[32m--> \u001b[39m\u001b[32m227\u001b[39m \u001b[43mplt\u001b[49m\u001b[43m.\u001b[49m\u001b[43mfigure\u001b[49m\u001b[43m(\u001b[49m\u001b[43mfigsize\u001b[49m\u001b[43m=\u001b[49m\u001b[38;5;28;43mself\u001b[39;49m\u001b[43m.\u001b[49m\u001b[43mfigsize\u001b[49m\u001b[43m)\u001b[49m\n\u001b[32m    228\u001b[39m plt.imshow(wordcloud, interpolation=\u001b[33m'\u001b[39m\u001b[33mbilinear\u001b[39m\u001b[33m'\u001b[39m)\n\u001b[32m    229\u001b[39m plt.axis(\u001b[33m\"\u001b[39m\u001b[33moff\u001b[39m\u001b[33m\"\u001b[39m)\n",
      "\u001b[36mFile \u001b[39m\u001b[32m~/github/Python/data-jobs/.venv/lib/python3.12/site-packages/matplotlib/pyplot.py:1042\u001b[39m, in \u001b[36mfigure\u001b[39m\u001b[34m(num, figsize, dpi, facecolor, edgecolor, frameon, FigureClass, clear, **kwargs)\u001b[39m\n\u001b[32m   1032\u001b[39m \u001b[38;5;28;01mif\u001b[39;00m \u001b[38;5;28mlen\u001b[39m(allnums) == max_open_warning >= \u001b[32m1\u001b[39m:\n\u001b[32m   1033\u001b[39m     _api.warn_external(\n\u001b[32m   1034\u001b[39m         \u001b[33mf\u001b[39m\u001b[33m\"\u001b[39m\u001b[33mMore than \u001b[39m\u001b[38;5;132;01m{\u001b[39;00mmax_open_warning\u001b[38;5;132;01m}\u001b[39;00m\u001b[33m figures have been opened. \u001b[39m\u001b[33m\"\u001b[39m\n\u001b[32m   1035\u001b[39m         \u001b[33mf\u001b[39m\u001b[33m\"\u001b[39m\u001b[33mFigures created through the pyplot interface \u001b[39m\u001b[33m\"\u001b[39m\n\u001b[32m   (...)\u001b[39m\u001b[32m   1039\u001b[39m         \u001b[33mf\u001b[39m\u001b[33m\"\u001b[39m\u001b[33mConsider using `matplotlib.pyplot.close()`.\u001b[39m\u001b[33m\"\u001b[39m,\n\u001b[32m   1040\u001b[39m         \u001b[38;5;167;01mRuntimeWarning\u001b[39;00m)\n\u001b[32m-> \u001b[39m\u001b[32m1042\u001b[39m manager = \u001b[43mnew_figure_manager\u001b[49m\u001b[43m(\u001b[49m\n\u001b[32m   1043\u001b[39m \u001b[43m    \u001b[49m\u001b[43mnum\u001b[49m\u001b[43m,\u001b[49m\u001b[43m \u001b[49m\u001b[43mfigsize\u001b[49m\u001b[43m=\u001b[49m\u001b[43mfigsize\u001b[49m\u001b[43m,\u001b[49m\u001b[43m \u001b[49m\u001b[43mdpi\u001b[49m\u001b[43m=\u001b[49m\u001b[43mdpi\u001b[49m\u001b[43m,\u001b[49m\n\u001b[32m   1044\u001b[39m \u001b[43m    \u001b[49m\u001b[43mfacecolor\u001b[49m\u001b[43m=\u001b[49m\u001b[43mfacecolor\u001b[49m\u001b[43m,\u001b[49m\u001b[43m \u001b[49m\u001b[43medgecolor\u001b[49m\u001b[43m=\u001b[49m\u001b[43medgecolor\u001b[49m\u001b[43m,\u001b[49m\u001b[43m \u001b[49m\u001b[43mframeon\u001b[49m\u001b[43m=\u001b[49m\u001b[43mframeon\u001b[49m\u001b[43m,\u001b[49m\n\u001b[32m   1045\u001b[39m \u001b[43m    \u001b[49m\u001b[43mFigureClass\u001b[49m\u001b[43m=\u001b[49m\u001b[43mFigureClass\u001b[49m\u001b[43m,\u001b[49m\u001b[43m \u001b[49m\u001b[43m*\u001b[49m\u001b[43m*\u001b[49m\u001b[43mkwargs\u001b[49m\u001b[43m)\u001b[49m\n\u001b[32m   1046\u001b[39m fig = manager.canvas.figure\n\u001b[32m   1047\u001b[39m \u001b[38;5;28;01mif\u001b[39;00m fig_label:\n",
      "\u001b[36mFile \u001b[39m\u001b[32m~/github/Python/data-jobs/.venv/lib/python3.12/site-packages/matplotlib/pyplot.py:552\u001b[39m, in \u001b[36mnew_figure_manager\u001b[39m\u001b[34m(*args, **kwargs)\u001b[39m\n\u001b[32m    550\u001b[39m \u001b[38;5;250m\u001b[39m\u001b[33;03m\"\"\"Create a new figure manager instance.\"\"\"\u001b[39;00m\n\u001b[32m    551\u001b[39m _warn_if_gui_out_of_main_thread()\n\u001b[32m--> \u001b[39m\u001b[32m552\u001b[39m \u001b[38;5;28;01mreturn\u001b[39;00m \u001b[43m_get_backend_mod\u001b[49m\u001b[43m(\u001b[49m\u001b[43m)\u001b[49m\u001b[43m.\u001b[49m\u001b[43mnew_figure_manager\u001b[49m\u001b[43m(\u001b[49m\u001b[43m*\u001b[49m\u001b[43margs\u001b[49m\u001b[43m,\u001b[49m\u001b[43m \u001b[49m\u001b[43m*\u001b[49m\u001b[43m*\u001b[49m\u001b[43mkwargs\u001b[49m\u001b[43m)\u001b[49m\n",
      "\u001b[36mFile \u001b[39m\u001b[32m~/github/Python/data-jobs/.venv/lib/python3.12/site-packages/matplotlib_inline/backend_inline.py:27\u001b[39m, in \u001b[36mnew_figure_manager\u001b[39m\u001b[34m(num, FigureClass, *args, **kwargs)\u001b[39m\n\u001b[32m     21\u001b[39m \u001b[38;5;28;01mdef\u001b[39;00m\u001b[38;5;250m \u001b[39m\u001b[34mnew_figure_manager\u001b[39m(num, *args, FigureClass=Figure, **kwargs):\n\u001b[32m     22\u001b[39m \u001b[38;5;250m    \u001b[39m\u001b[33;03m\"\"\"\u001b[39;00m\n\u001b[32m     23\u001b[39m \u001b[33;03m    Return a new figure manager for a new figure instance.\u001b[39;00m\n\u001b[32m     24\u001b[39m \n\u001b[32m     25\u001b[39m \u001b[33;03m    This function is part of the API expected by Matplotlib backends.\u001b[39;00m\n\u001b[32m     26\u001b[39m \u001b[33;03m    \"\"\"\u001b[39;00m\n\u001b[32m---> \u001b[39m\u001b[32m27\u001b[39m     \u001b[38;5;28;01mreturn\u001b[39;00m new_figure_manager_given_figure(num, \u001b[43mFigureClass\u001b[49m\u001b[43m(\u001b[49m\u001b[43m*\u001b[49m\u001b[43margs\u001b[49m\u001b[43m,\u001b[49m\u001b[43m \u001b[49m\u001b[43m*\u001b[49m\u001b[43m*\u001b[49m\u001b[43mkwargs\u001b[49m\u001b[43m)\u001b[49m)\n",
      "\u001b[36mFile \u001b[39m\u001b[32m~/github/Python/data-jobs/.venv/lib/python3.12/site-packages/matplotlib/figure.py:2623\u001b[39m, in \u001b[36mFigure.__init__\u001b[39m\u001b[34m(self, figsize, dpi, facecolor, edgecolor, linewidth, frameon, subplotpars, tight_layout, constrained_layout, layout, **kwargs)\u001b[39m\n\u001b[32m   2620\u001b[39m \u001b[38;5;28;01mif\u001b[39;00m frameon \u001b[38;5;129;01mis\u001b[39;00m \u001b[38;5;28;01mNone\u001b[39;00m:\n\u001b[32m   2621\u001b[39m     frameon = mpl.rcParams[\u001b[33m'\u001b[39m\u001b[33mfigure.frameon\u001b[39m\u001b[33m'\u001b[39m]\n\u001b[32m-> \u001b[39m\u001b[32m2623\u001b[39m \u001b[38;5;28;01mif\u001b[39;00m \u001b[38;5;129;01mnot\u001b[39;00m \u001b[43mnp\u001b[49m\u001b[43m.\u001b[49m\u001b[43misfinite\u001b[49m\u001b[43m(\u001b[49m\u001b[43mfigsize\u001b[49m\u001b[43m)\u001b[49m.all() \u001b[38;5;129;01mor\u001b[39;00m (np.array(figsize) < \u001b[32m0\u001b[39m).any():\n\u001b[32m   2624\u001b[39m     \u001b[38;5;28;01mraise\u001b[39;00m \u001b[38;5;167;01mValueError\u001b[39;00m(\u001b[33m'\u001b[39m\u001b[33mfigure size must be positive finite not \u001b[39m\u001b[33m'\u001b[39m\n\u001b[32m   2625\u001b[39m                      \u001b[33mf\u001b[39m\u001b[33m'\u001b[39m\u001b[38;5;132;01m{\u001b[39;00mfigsize\u001b[38;5;132;01m}\u001b[39;00m\u001b[33m'\u001b[39m)\n\u001b[32m   2626\u001b[39m \u001b[38;5;28mself\u001b[39m.bbox_inches = Bbox.from_bounds(\u001b[32m0\u001b[39m, \u001b[32m0\u001b[39m, *figsize)\n",
      "\u001b[31mTypeError\u001b[39m: ufunc 'isfinite' not supported for the input types, and the inputs could not be safely coerced to any supported types according to the casting rule ''safe''"
     ]
    }
   ],
   "source": [
    "# Generate beautiful word cloud from job tags\n",
    "if 'tags' in jobs_df.columns:\n",
    "    print(\"🌟 Creating word cloud from job tags...\")\n",
    "    tags_text = \", \".join(jobs_df.tags.fillna(\"\")).lower()\n",
    "    \n",
    "    if tags_text.strip():\n",
    "        visualizer.plot_wordcloud(\n",
    "            tags_text, \n",
    "            title=\"Hottest Skills & Technologies in Data Jobs\",\n",
    "            save_path=\"data/outputs/skills_wordcloud.png\"\n",
    "        )\n",
    "    else:\n",
    "        print(\"⚠️ No tags data available for word cloud\")\n",
    "else:\n",
    "    print(\"⚠️ No tags column found in dataset\")\n",
    "\n",
    "# Create keywords bar chart\n",
    "if analysis_results and 'keywords' in analysis_results:\n",
    "    plot_keywords_bar_chart(\n",
    "        analysis_results['keywords'],\n",
    "        title=\"Most Mentioned Keywords in Job Descriptions\",\n",
    "        save_path=\"data/outputs/keywords_chart.png\"\n",
    "    )"
   ]
  },
  {
   "cell_type": "markdown",
   "metadata": {},
   "source": [
    "## 💰 Salary Analysis"
   ]
  },
  {
   "cell_type": "code",
   "execution_count": null,
   "metadata": {},
   "outputs": [],
   "source": [
    "# Analyze and visualize salary trends\n",
    "print(\"💸 Analyzing salary trends by location...\")\n",
    "\n",
    "salary_data = analyze_salary_trends_by_location(jobs_df)\n",
    "\n",
    "if not salary_data.empty:\n",
    "    print(f\"\\n💼 Salary information available for {len(salary_data)} locations\")\n",
    "    \n",
    "    # Display top paying locations\n",
    "    print(\"\\n🏆 Top 10 Highest Paying Locations:\")\n",
    "    display(salary_data.head(10))\n",
    "    \n",
    "    # Create visualization\n",
    "    plot_salary_trends_by_location(\n",
    "        salary_data,\n",
    "        title=\"💰 Salary Ranges Across Different Locations\",\n",
    "        save_path=\"data/outputs/salary_trends.png\",\n",
    "        top_n=12\n",
    "    )\n",
    "else:\n",
    "    print(\"⚠️ No salary data available for analysis\")"
   ]
  },
  {
   "cell_type": "markdown",
   "metadata": {},
   "source": [
    "## 🏢 Job Types & Company Analysis"
   ]
  },
  {
   "cell_type": "code",
   "execution_count": null,
   "metadata": {},
   "outputs": [],
   "source": [
    "# Analyze job types distribution\n",
    "job_types = analyze_job_types(jobs_df)\n",
    "\n",
    "if not job_types.empty:\n",
    "    print(\"📊 Job Types Distribution:\")\n",
    "    display(job_types.head(10))\n",
    "    \n",
    "    visualizer.plot_job_distribution(\n",
    "        job_types,\n",
    "        title=\"🎯 Distribution of Job Types in Data Careers\",\n",
    "        plot_type='horizontal_bar',\n",
    "        save_path=\"data/outputs/job_types_distribution.png\"\n",
    "    )\n",
    "else:\n",
    "    print(\"⚠️ No job type data available\")\n",
    "\n",
    "# Analyze company sizes if available\n",
    "company_sizes = analyze_company_sizes(jobs_df)\n",
    "\n",
    "if not company_sizes.empty:\n",
    "    print(\"\\n🏭 Company Sizes Distribution:\")\n",
    "    display(company_sizes)\n",
    "    \n",
    "    visualizer.plot_job_distribution(\n",
    "        company_sizes,\n",
    "        title=\"🏢 Job Distribution by Company Size\",\n",
    "        plot_type='pie',\n",
    "        save_path=\"data/outputs/company_sizes.png\"\n",
    "    )"
   ]
  },
  {
   "cell_type": "markdown",
   "metadata": {},
   "source": [
    "## 📊 Comprehensive Dashboard"
   ]
  },
  {
   "cell_type": "code",
   "execution_count": null,
   "metadata": {},
   "outputs": [],
   "source": [
    "# Create a comprehensive dashboard\n",
    "print(\"🎨 Creating comprehensive analysis dashboard...\")\n",
    "\n",
    "create_summary_dashboard(\n",
    "    jobs_df,\n",
    "    save_path=\"data/outputs/job_market_dashboard.png\"\n",
    ")\n",
    "\n",
    "print(\"✅ Dashboard created successfully!\")"
   ]
  },
  {
   "cell_type": "markdown",
   "metadata": {},
   "source": [
    "## 📤 Export Results"
   ]
  },
  {
   "cell_type": "code",
   "execution_count": null,
   "metadata": {},
   "outputs": [],
   "source": [
    "# Export all analysis results in multiple formats\n",
    "print(\"📦 Exporting analysis results...\")\n",
    "\n",
    "if analysis_results:\n",
    "    exported_files = export_analysis_results(\n",
    "        analysis_results,\n",
    "        job_postings=jobs_df,\n",
    "        output_format='all',\n",
    "        filename='data_jobs_market_analysis'\n",
    "    )\n",
    "    \n",
    "    print(\"\\n📁 Files exported:\")\n",
    "    for file_type, file_path in exported_files.items():\n",
    "        if file_path:\n",
    "            print(f\"  📄 {file_type}: {file_path}\")\n",
    "    \n",
    "    print(\"\\n🎉 All exports completed successfully!\")\n",
    "else:\n",
    "    print(\"⚠️ No analysis results to export\")"
   ]
  },
  {
   "cell_type": "markdown",
   "metadata": {},
   "source": [
    "## 📋 Final Summary"
   ]
  },
  {
   "cell_type": "code",
   "execution_count": null,
   "metadata": {},
   "outputs": [],
   "source": [
    "# Display final summary\n",
    "print(\"\\n\" + \"=\"*60)\n",
    "print(\"🎯 ANALYSIS SUMMARY\")\n",
    "print(\"=\"*60)\n",
    "\n",
    "if analysis_results and 'stats' in analysis_results:\n",
    "    stats = analysis_results['stats']\n",
    "    \n",
    "    print(f\"📊 Total Jobs Analyzed: {stats.get('total_jobs', 0):,}\")\n",
    "    print(f\"🏢 Unique Companies: {stats.get('unique_companies', 0):,}\")\n",
    "    print(f\"🌍 Unique Locations: {stats.get('unique_locations', 0):,}\")\n",
    "    print(f\"💰 Jobs with Salary Info: {stats.get('jobs_with_salary', 0):,}\")\n",
    "    \n",
    "    if stats.get('total_jobs', 0) > 0:\n",
    "        salary_coverage = (stats.get('jobs_with_salary', 0) / stats.get('total_jobs', 1)) * 100\n",
    "        print(f\"📈 Salary Data Coverage: {salary_coverage:.1f}%\")\n",
    "    \n",
    "    if analysis_results.get('keywords'):\n",
    "        top_skill = analysis_results['keywords'][0][0]\n",
    "        print(f\"🔥 Most In-Demand Skill: {top_skill}\")\n",
    "    \n",
    "    print(f\"\\n📅 Analysis completed: {datetime.now().strftime('%Y-%m-%d %H:%M:%S')}\")\n",
    "    print(\"\\n🚀 Ready to make data-driven career decisions!\")\n",
    "else:\n",
    "    print(\"⚠️ Analysis results not available\")\n",
    "\n",
    "print(\"=\"*60)"
   ]
  },
  {
   "cell_type": "markdown",
   "metadata": {},
   "source": [
    "## 🛠️ Custom Analysis Playground\n",
    "\n",
    "Use the cells below for your own custom analysis and exploration!"
   ]
  },
  {
   "cell_type": "code",
   "execution_count": null,
   "metadata": {},
   "outputs": [],
   "source": [
    "# Your custom analysis here!\n",
    "# Example: Analyze specific technologies or job titles\n",
    "\n",
    "# Search for specific technologies\n",
    "tech_keywords = ['python', 'sql', 'tableau', 'power bi', 'machine learning', 'aws']\n",
    "\n",
    "if 'description' in jobs_df.columns:\n",
    "    print(\"🔍 Technology mention analysis:\")\n",
    "    for tech in tech_keywords:\n",
    "        count = jobs_df['description'].str.contains(tech, case=False, na=False).sum()\n",
    "        percentage = (count / len(jobs_df)) * 100\n",
    "        print(f\"  {tech.title()}: {count} jobs ({percentage:.1f}%)\")\n",
    "else:\n",
    "    print(\"⚠️ No description column available for technology analysis\")"
   ]
  },
  {
   "cell_type": "code",
   "execution_count": null,
   "metadata": {},
   "outputs": [],
   "source": [
    "# Add your own analysis cells here!\n",
    "# Ideas:\n",
    "# - Remote vs on-site job analysis\n",
    "# - Experience level requirements\n",
    "# - Job posting trends over time\n",
    "# - Company-specific analysis\n",
    "# - Geographic clustering of opportunities"
   ]
  }
 ],
 "metadata": {
  "kernelspec": {
   "display_name": ".venv",
   "language": "python",
   "name": "python3"
  },
  "language_info": {
   "codemirror_mode": {
    "name": "ipython",
    "version": 3
   },
   "file_extension": ".py",
   "mimetype": "text/x-python",
   "name": "python",
   "nbconvert_exporter": "python",
   "pygments_lexer": "ipython3",
   "version": "3.12.3"
  }
 },
 "nbformat": 4,
 "nbformat_minor": 4
}
